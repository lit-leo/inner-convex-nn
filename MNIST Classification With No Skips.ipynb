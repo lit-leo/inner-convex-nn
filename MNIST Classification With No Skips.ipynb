{
 "cells": [
  {
   "cell_type": "code",
   "execution_count": 138,
   "metadata": {},
   "outputs": [],
   "source": [
    "%matplotlib inline\n",
    "import torch.nn.functional as F\n",
    "import matplotlib.pyplot as plt\n",
    "import torch\n",
    "from sklearn.datasets import load_digits\n",
    "import numpy as np\n",
    "import pandas as pd\n",
    "from sklearn.model_selection import train_test_split\n",
    "import torch.nn as nn\n",
    "import torch.utils.data as torch_data\n",
    "import sklearn\n",
    "from sklearn.metrics import accuracy_score"
   ]
  },
  {
   "cell_type": "code",
   "execution_count": 139,
   "metadata": {},
   "outputs": [],
   "source": [
    "from poslayers.poslayers import *"
   ]
  },
  {
   "cell_type": "code",
   "execution_count": 140,
   "metadata": {},
   "outputs": [],
   "source": [
    "# fetch the dataset.\n",
    "digits, targets = load_digits(return_X_y=True)\n",
    "digits = digits.astype(np.float32) / 255\n",
    "\n",
    "digits_train, digits_test, targets_train, targets_test = train_test_split(digits, targets, random_state=0)\n",
    "\n",
    "train_size = digits_train.shape[0]\n",
    "\n",
    "input_size = 8*8\n",
    "classes_n = 10"
   ]
  },
  {
   "cell_type": "code",
   "execution_count": 141,
   "metadata": {},
   "outputs": [],
   "source": [
    "class MNISTData(torch_data.Dataset):\n",
    "    def __init__(self, X, y):\n",
    "        super(MNISTData, self).__init__()\n",
    "        self.X = torch.tensor(X, dtype=torch.float32)\n",
    "        self.y = torch.tensor(y, dtype=torch.long)\n",
    "    \n",
    "    def __len__(self):\n",
    "        return len(self.X)\n",
    "    \n",
    "    def __getitem__(self, idx):\n",
    "        return (self.X[idx],self.y[idx])"
   ]
  },
  {
   "cell_type": "code",
   "execution_count": 142,
   "metadata": {},
   "outputs": [],
   "source": [
    "def get_accuracy(net, val_dset):\n",
    "    test_loader = torch_data.DataLoader(val_dset,batch_size = len(val_dset)) \n",
    "    net.eval()\n",
    "    for X,y in test_loader:\n",
    "        X = X.to(device)\n",
    "        nn_outputs = net(X).detach().numpy().argmax(axis = 1)\n",
    "    return accuracy_score(nn_outputs,y.detach().numpy())"
   ]
  },
  {
   "cell_type": "code",
   "execution_count": 143,
   "metadata": {},
   "outputs": [],
   "source": [
    "train_dset = MNISTData(digits_train, targets_train) \n",
    "val_dset = MNISTData(digits_test, targets_test) "
   ]
  },
  {
   "cell_type": "markdown",
   "metadata": {},
   "source": [
    "## Non-convex FCN"
   ]
  },
  {
   "cell_type": "code",
   "execution_count": 144,
   "metadata": {},
   "outputs": [],
   "source": [
    "class FCN(nn.Module):\n",
    "\n",
    "    def __init__(self):\n",
    "        super(FCN, self).__init__()\n",
    "        self.fc0 = Dense(64, 40)\n",
    "        self.fc1 = Dense(40, 20)\n",
    "        self.fc2 = Dense(20, 10)\n",
    "        self.fc3 = Dense(10, 10)\n",
    "\n",
    "    def forward(self, input_):\n",
    "        h1 = F.relu(self.fc0(input_))\n",
    "        h2 = F.relu(self.fc1(h1))\n",
    "        h3 = self.fc2(h2)\n",
    "        return h3\n",
    "    \n",
    "    def get_sparsities(self):\n",
    "        return {\n",
    "                'Dense1': self.fc0.get_sparsity(),\n",
    "                'Dense2': self.fc1.get_sparsity(),\n",
    "                'Dense3': self.fc2.get_sparsity(),\n",
    "        }\n",
    "    \n",
    "    def l1reg(self, device):\n",
    "        return self.fc0.l1reg(device) + self.fc1.l1reg(device) + self.fc2.l1reg(device)"
   ]
  },
  {
   "cell_type": "code",
   "execution_count": 145,
   "metadata": {},
   "outputs": [],
   "source": [
    "device = 'cpu'\n",
    "\n",
    "net = FCN()  \n",
    "criterion = F.cross_entropy\n",
    "optimizer = torch.optim.Adam(net.parameters())\n",
    "scheduler = None\n",
    "\n",
    "train_loader = torch_data.DataLoader(train_dset, batch_size=30, shuffle=True) \n",
    "val_loader = torch_data.DataLoader(val_dset, batch_size=100, shuffle=False) "
   ]
  },
  {
   "cell_type": "code",
   "execution_count": 146,
   "metadata": {},
   "outputs": [
    {
     "data": {
      "text/plain": [
       "FCN(\n",
       "  (fc0): Dense(in_features=64, out_features=40, bias=True)\n",
       "  (fc1): Dense(in_features=40, out_features=20, bias=True)\n",
       "  (fc2): Dense(in_features=20, out_features=10, bias=True)\n",
       "  (fc3): Dense(in_features=10, out_features=10, bias=True)\n",
       ")"
      ]
     },
     "execution_count": 146,
     "metadata": {},
     "output_type": "execute_result"
    }
   ],
   "source": [
    "net"
   ]
  },
  {
   "cell_type": "code",
   "execution_count": 147,
   "metadata": {},
   "outputs": [
    {
     "data": {
      "text/plain": [
       "FCN(\n",
       "  (fc0): Dense(in_features=64, out_features=40, bias=True)\n",
       "  (fc1): Dense(in_features=40, out_features=20, bias=True)\n",
       "  (fc2): Dense(in_features=20, out_features=10, bias=True)\n",
       "  (fc3): Dense(in_features=10, out_features=10, bias=True)\n",
       ")"
      ]
     },
     "execution_count": 147,
     "metadata": {},
     "output_type": "execute_result"
    }
   ],
   "source": [
    "net"
   ]
  },
  {
   "cell_type": "code",
   "execution_count": 148,
   "metadata": {},
   "outputs": [],
   "source": [
    "def train_fcn(epochs, net, criterion, optimizer, train_loader,\n",
    "               val_loader, ds_train, ds_val,\n",
    "               scheduler=None, verbose=True, save_dir=None, l1alpha=0, model_file='model', positivate=False):\n",
    "    net.to(device)\n",
    "\n",
    "    train_losses = []\n",
    "    val_losses = []\n",
    "    train_accs = []\n",
    "    val_accs = []\n",
    "\n",
    "    best_val_loss = np.inf\n",
    "\n",
    "    for epoch in range(1, epochs+1):\n",
    "        net.train()\n",
    "        loss = []\n",
    "        for X, y in train_loader:\n",
    "            X = X.to(device)\n",
    "            y = y.to(device)\n",
    "            nn_outputs = net(X)\n",
    "\n",
    "            loss1 = criterion(nn_outputs, y) + l1alpha * net.l1reg(device)\n",
    "            loss1 = loss1.to(device)\n",
    "            optimizer.zero_grad()\n",
    "            loss1.backward()\n",
    "            loss.append(loss1.item())\n",
    "            optimizer.step()\n",
    "            if positivate:\n",
    "                net.positivate()\n",
    "        net.eval()\n",
    "        val_loss = []\n",
    "        for X, y in val_loader:\n",
    "            X = X.to(device)\n",
    "            y = y.to(device)\n",
    "            nn_outputs = net(X)\n",
    "            val_loss1 = criterion(nn_outputs,y)\n",
    "            val_loss.append(val_loss1.item())\n",
    "         \n",
    "        if scheduler is not None:\n",
    "            scheduler.step()\n",
    "        freq = max(epochs//20,1)\n",
    "\n",
    "        train_losses.append(np.mean(loss))\n",
    "        val_losses.append(np.mean(val_loss))\n",
    "        train_accs.append(get_accuracy(net, ds_train))\n",
    "        val_accs.append(get_accuracy(net, ds_val))\n",
    "\n",
    "\n",
    "        if np.mean(val_loss) < best_val_loss:\n",
    "            best_val_loss = np.mean(val_loss)\n",
    "            torch.save(net.state_dict(), model_file)\n",
    "\n",
    "        if verbose and epoch%freq==0:\n",
    "            print('Epoch {}/{} || Loss:  Train {:.4f} | Validation {:.4f}'.format(epoch, epochs, np.mean(loss), np.mean(val_loss)))\n",
    "          \n",
    "    np.save(f'val_loss_{model_file}', val_losses)\n",
    "    np.save(f'train_loss_{model_file}', train_losses)\n",
    "    np.save(f'val_acc_{model_file}', val_accs)\n",
    "    np.save(f'train_acc_{model_file}', train_accs)"
   ]
  },
  {
   "cell_type": "code",
   "execution_count": 149,
   "metadata": {},
   "outputs": [
    {
     "name": "stdout",
     "output_type": "stream",
     "text": [
      "Epoch 20/400 || Loss:  Train 0.5686 | Validation 0.6189\n",
      "Epoch 40/400 || Loss:  Train 0.3175 | Validation 0.3668\n",
      "Epoch 60/400 || Loss:  Train 0.2311 | Validation 0.2825\n",
      "Epoch 80/400 || Loss:  Train 0.1865 | Validation 0.2551\n",
      "Epoch 100/400 || Loss:  Train 0.1550 | Validation 0.2329\n",
      "Epoch 120/400 || Loss:  Train 0.1345 | Validation 0.2321\n",
      "Epoch 140/400 || Loss:  Train 0.1161 | Validation 0.2258\n",
      "Epoch 160/400 || Loss:  Train 0.1018 | Validation 0.2258\n",
      "Epoch 180/400 || Loss:  Train 0.0858 | Validation 0.2164\n",
      "Epoch 200/400 || Loss:  Train 0.0751 | Validation 0.2197\n",
      "Epoch 220/400 || Loss:  Train 0.0654 | Validation 0.2181\n",
      "Epoch 240/400 || Loss:  Train 0.0589 | Validation 0.2186\n",
      "Epoch 260/400 || Loss:  Train 0.0483 | Validation 0.2185\n",
      "Epoch 280/400 || Loss:  Train 0.0412 | Validation 0.2225\n",
      "Epoch 300/400 || Loss:  Train 0.0358 | Validation 0.2188\n",
      "Epoch 320/400 || Loss:  Train 0.0289 | Validation 0.2250\n",
      "Epoch 340/400 || Loss:  Train 0.0233 | Validation 0.2313\n",
      "Epoch 360/400 || Loss:  Train 0.0195 | Validation 0.2331\n",
      "Epoch 380/400 || Loss:  Train 0.0160 | Validation 0.2359\n",
      "Epoch 400/400 || Loss:  Train 0.0136 | Validation 0.2359\n"
     ]
    }
   ],
   "source": [
    "train_fcn(400, net, criterion, optimizer, train_loader, val_loader,\n",
    "          train_dset, val_dset, model_file='fcn', scheduler=scheduler)"
   ]
  },
  {
   "cell_type": "code",
   "execution_count": 150,
   "metadata": {},
   "outputs": [
    {
     "data": {
      "text/plain": [
       "<All keys matched successfully>"
      ]
     },
     "execution_count": 150,
     "metadata": {},
     "output_type": "execute_result"
    }
   ],
   "source": [
    "net.load_state_dict(torch.load('fcn'))"
   ]
  },
  {
   "cell_type": "code",
   "execution_count": 151,
   "metadata": {},
   "outputs": [
    {
     "data": {
      "text/plain": [
       "0.9466666666666667"
      ]
     },
     "execution_count": 151,
     "metadata": {},
     "output_type": "execute_result"
    }
   ],
   "source": [
    "get_accuracy(net, val_dset)"
   ]
  },
  {
   "cell_type": "code",
   "execution_count": 152,
   "metadata": {},
   "outputs": [],
   "source": [
    "fcn_val_losses = np.load('val_loss_fcn.npy')\n",
    "fcn_val_accs = np.load('val_acc_fcn.npy')"
   ]
  },
  {
   "cell_type": "code",
   "execution_count": 153,
   "metadata": {},
   "outputs": [],
   "source": [
    "def plot_losses_accs(train_losses, val_losses, train_accs, val_accs):\n",
    "    fig, axs = plt.subplots(nrows=1, ncols=2, figsize=(14, 7))\n",
    "    axs[0].grid()\n",
    "    axs[0].plot(train_losses, label=\"train loss\")\n",
    "    axs[0].plot(val_losses, label=\"val loss\")\n",
    "    axs[0].set_xlabel(\"Epoch\", fontsize=14)\n",
    "    axs[0].set_ylabel(\"Loss\", fontsize=14)\n",
    "    axs[0].legend(fontsize=14)\n",
    "    \n",
    "    axs[1].grid()\n",
    "    axs[1].plot(train_accs, label=\"train acc\")\n",
    "    axs[1].plot(val_accs, label=\"val acc\")\n",
    "    axs[1].set_xlabel(\"Epoch\", fontsize=14)\n",
    "    axs[1].set_ylabel(\"Accuracy\", fontsize=14)\n",
    "    axs[1].legend(fontsize=14)\n",
    "    plt.show()"
   ]
  },
  {
   "cell_type": "code",
   "execution_count": 154,
   "metadata": {},
   "outputs": [
    {
     "data": {
      "text/plain": [
       "{'Dense1': 0.0, 'Dense2': 0.0, 'Dense3': 0.0}"
      ]
     },
     "execution_count": 154,
     "metadata": {},
     "output_type": "execute_result"
    }
   ],
   "source": [
    "net.get_sparsities()"
   ]
  },
  {
   "cell_type": "markdown",
   "metadata": {},
   "source": [
    "## POSDENSE = CNN WITHOUT ADDITIONAL LAYERS"
   ]
  },
  {
   "cell_type": "code",
   "execution_count": 155,
   "metadata": {},
   "outputs": [],
   "source": [
    "class ICNN(nn.Module):\n",
    "\n",
    "    def __init__(self):\n",
    "        super(ICNN, self).__init__()\n",
    "        self.fcpos0 = PosDense(64, 40)\n",
    "        self.fcpos1 = PosDense(40, 20)\n",
    "        self.fcpos2 = PosDense(20, 10)\n",
    "        self.fc = Dense(10, 10)\n",
    "\n",
    "    def forward(self, input_):\n",
    "        h1 = F.relu(self.fcpos0(input_))\n",
    "        h2 = F.relu(self.fcpos1(h1))\n",
    "        h3 = F.relu(self.fcpos2(h2))\n",
    "        h4 = self.fc(h3)\n",
    "        return h4\n",
    "    \n",
    "    def positivate(self):\n",
    "        self.fcpos0.positivate()\n",
    "        self.fcpos1.positivate()\n",
    "        self.fcpos2.positivate()\n",
    "    \n",
    "    def get_sparsities(self):\n",
    "        get_sparsity = lambda layer : (layer.weight.data == 0).sum().item() / (layer.weight.data.shape[0] * layer.weight.data.shape[1])\n",
    "        return {\n",
    "                'PosDense1': get_sparsity(self.fcpos0),\n",
    "                'PosDense2': get_sparsity(self.fcpos1),\n",
    "                'PosDense3': get_sparsity(self.fcpos2),\n",
    "                'Dense' : get_sparsity(self.fc)\n",
    "        }\n",
    "    \n",
    "    def l1reg(self, device):\n",
    "        return self.fcpos0.l1reg(device) + self.fcpos1.l1reg(device) + self.fcpos2.l1reg(device) + self.fc.l1reg(device)"
   ]
  },
  {
   "cell_type": "code",
   "execution_count": 156,
   "metadata": {},
   "outputs": [],
   "source": [
    "device = 'cpu'\n",
    "\n",
    "net = ICNN()  \n",
    "criterion = F.cross_entropy\n",
    "optimizer = torch.optim.Adam(net.parameters())\n",
    "scheduler = None\n",
    "\n",
    "train_loader = torch_data.DataLoader(train_dset, batch_size=30, shuffle=True) \n",
    "val_loader = torch_data.DataLoader(val_dset, batch_size=100, shuffle=False) "
   ]
  },
  {
   "cell_type": "code",
   "execution_count": 157,
   "metadata": {},
   "outputs": [
    {
     "data": {
      "text/plain": [
       "ICNN(\n",
       "  (fcpos0): PosDense(in_features=64, out_features=40, bias=True)\n",
       "  (fcpos1): PosDense(in_features=40, out_features=20, bias=True)\n",
       "  (fcpos2): PosDense(in_features=20, out_features=10, bias=True)\n",
       "  (fc): Dense(in_features=10, out_features=10, bias=True)\n",
       ")"
      ]
     },
     "execution_count": 157,
     "metadata": {},
     "output_type": "execute_result"
    }
   ],
   "source": [
    "net"
   ]
  },
  {
   "cell_type": "code",
   "execution_count": 158,
   "metadata": {},
   "outputs": [],
   "source": [
    "def train_icnn(epochs, net, criterion, optimizer, train_loader, val_loader,scheduler=None, verbose=True, save_dir=None, l1alpha=0):\n",
    "    net.to(device)\n",
    "    for epoch in range(1, epochs+1):\n",
    "        net.train()\n",
    "        loss = []\n",
    "        for X, y in train_loader:\n",
    "            nn_outputs = net(X)\n",
    "            loss1 = criterion(nn_outputs, y) + l1alpha * net.l1reg()\n",
    "            optimizer.zero_grad()\n",
    "            loss1.backward()\n",
    "            loss.append(loss1.item())\n",
    "            optimizer.step()\n",
    "            net.positivate()\n",
    "        net.eval()\n",
    "        val_loss = []\n",
    "        for X, y in val_loader:\n",
    "            X = X.to(device)\n",
    "            nn_outputs = net(X)\n",
    "            val_loss1 = criterion(nn_outputs,y)\n",
    "            val_loss.append(val_loss1.item())\n",
    "         \n",
    "        if scheduler is not None:\n",
    "            scheduler.step()\n",
    "        freq = max(epochs//20,1)\n",
    "        if verbose and epoch%freq==0:\n",
    "            print('Epoch {}/{} || Loss:  Train {:.4f} | Validation {:.4f}'.format(epoch, epochs, np.mean(loss), np.mean(val_loss)))"
   ]
  },
  {
   "cell_type": "code",
   "execution_count": 159,
   "metadata": {},
   "outputs": [
    {
     "name": "stdout",
     "output_type": "stream",
     "text": [
      "Epoch 20/400 || Loss:  Train 1.6679 | Validation 1.6785\n",
      "Epoch 40/400 || Loss:  Train 1.4279 | Validation 1.4580\n",
      "Epoch 60/400 || Loss:  Train 1.2809 | Validation 1.3266\n",
      "Epoch 80/400 || Loss:  Train 1.0759 | Validation 1.1438\n",
      "Epoch 100/400 || Loss:  Train 0.8191 | Validation 0.9062\n",
      "Epoch 120/400 || Loss:  Train 0.6649 | Validation 0.7515\n",
      "Epoch 140/400 || Loss:  Train 0.5635 | Validation 0.6407\n",
      "Epoch 160/400 || Loss:  Train 0.4676 | Validation 0.5561\n",
      "Epoch 180/400 || Loss:  Train 0.3845 | Validation 0.4831\n",
      "Epoch 200/400 || Loss:  Train 0.3207 | Validation 0.4237\n",
      "Epoch 220/400 || Loss:  Train 0.2647 | Validation 0.3706\n",
      "Epoch 240/400 || Loss:  Train 0.2295 | Validation 0.3547\n",
      "Epoch 260/400 || Loss:  Train 0.1863 | Validation 0.3200\n",
      "Epoch 280/400 || Loss:  Train 0.1606 | Validation 0.3050\n",
      "Epoch 300/400 || Loss:  Train 0.1324 | Validation 0.2814\n",
      "Epoch 320/400 || Loss:  Train 0.1098 | Validation 0.2632\n",
      "Epoch 340/400 || Loss:  Train 0.0892 | Validation 0.2624\n",
      "Epoch 360/400 || Loss:  Train 0.0742 | Validation 0.2606\n",
      "Epoch 380/400 || Loss:  Train 0.0667 | Validation 0.2521\n",
      "Epoch 400/400 || Loss:  Train 0.0528 | Validation 0.2585\n"
     ]
    }
   ],
   "source": [
    "train_fcn(400, net, criterion, optimizer, train_loader, val_loader,\n",
    "          train_dset, val_dset, model_file='icnn', scheduler=scheduler, positivate=True)"
   ]
  },
  {
   "cell_type": "code",
   "execution_count": 160,
   "metadata": {},
   "outputs": [
    {
     "data": {
      "text/plain": [
       "<All keys matched successfully>"
      ]
     },
     "execution_count": 160,
     "metadata": {},
     "output_type": "execute_result"
    }
   ],
   "source": [
    "net.load_state_dict(torch.load('icnn'))"
   ]
  },
  {
   "cell_type": "code",
   "execution_count": 161,
   "metadata": {},
   "outputs": [],
   "source": [
    "icnn_val_losses = np.load('val_loss_icnn.npy')\n",
    "icnn_val_accs = np.load('val_acc_icnn.npy')"
   ]
  },
  {
   "cell_type": "code",
   "execution_count": 162,
   "metadata": {},
   "outputs": [
    {
     "data": {
      "text/plain": [
       "0.9333333333333333"
      ]
     },
     "execution_count": 162,
     "metadata": {},
     "output_type": "execute_result"
    }
   ],
   "source": [
    "get_accuracy(net, val_dset)"
   ]
  },
  {
   "cell_type": "code",
   "execution_count": 163,
   "metadata": {},
   "outputs": [],
   "source": [
    "def get_size(x):\n",
    "    return x.shape[0] * x.shape[1]"
   ]
  },
  {
   "cell_type": "code",
   "execution_count": 164,
   "metadata": {},
   "outputs": [],
   "source": [
    "sparsities = net.get_sparsities()"
   ]
  },
  {
   "cell_type": "code",
   "execution_count": 165,
   "metadata": {},
   "outputs": [
    {
     "data": {
      "text/plain": [
       "{'PosDense1': 0.30234375,\n",
       " 'PosDense2': 0.25875,\n",
       " 'PosDense3': 0.065,\n",
       " 'Dense': 0.0}"
      ]
     },
     "execution_count": 165,
     "metadata": {},
     "output_type": "execute_result"
    }
   ],
   "source": [
    "sparsities"
   ]
  },
  {
   "cell_type": "code",
   "execution_count": 166,
   "metadata": {},
   "outputs": [],
   "source": [
    "s0 = sparsities['PosDense1'] * get_size(net.fcpos0.weight.data)\n",
    "s1 = sparsities['PosDense2'] * get_size(net.fcpos1.weight.data)\n",
    "s2 = sparsities['PosDense3'] * get_size(net.fcpos2.weight.data)\n",
    "s3 = sparsities['Dense'] * get_size(net.fc.weight.data)"
   ]
  },
  {
   "cell_type": "code",
   "execution_count": 167,
   "metadata": {},
   "outputs": [
    {
     "data": {
      "text/plain": [
       "0.2715846994535519"
      ]
     },
     "execution_count": 167,
     "metadata": {},
     "output_type": "execute_result"
    }
   ],
   "source": [
    "(s0 + s1 + s2 + s3) /(get_size(net.fcpos0.weight.data) + get_size(net.fcpos1.weight.data) + get_size(net.fcpos2.weight.data) + get_size(net.fc.weight.data))"
   ]
  },
  {
   "cell_type": "markdown",
   "metadata": {},
   "source": [
    "## L1 + ICNN"
   ]
  },
  {
   "cell_type": "code",
   "execution_count": 168,
   "metadata": {},
   "outputs": [],
   "source": [
    "device = 'cpu'\n",
    "\n",
    "net = ICNN()  \n",
    "criterion = F.cross_entropy \n",
    "optimizer = torch.optim.Adam(net.parameters())\n",
    "scheduler = None\n",
    "\n",
    "train_loader = torch_data.DataLoader(train_dset, batch_size=30, shuffle=True) \n",
    "val_loader = torch_data.DataLoader(val_dset, batch_size=100, shuffle=False) "
   ]
  },
  {
   "cell_type": "code",
   "execution_count": 169,
   "metadata": {},
   "outputs": [
    {
     "name": "stdout",
     "output_type": "stream",
     "text": [
      "Epoch 20/400 || Loss:  Train 1.7125 | Validation 1.7371\n",
      "Epoch 40/400 || Loss:  Train 1.5256 | Validation 1.5413\n",
      "Epoch 60/400 || Loss:  Train 1.4580 | Validation 1.4684\n",
      "Epoch 80/400 || Loss:  Train 1.3554 | Validation 1.3656\n",
      "Epoch 100/400 || Loss:  Train 1.1415 | Validation 1.1842\n",
      "Epoch 120/400 || Loss:  Train 0.9986 | Validation 1.0395\n",
      "Epoch 140/400 || Loss:  Train 0.9228 | Validation 0.9295\n",
      "Epoch 160/400 || Loss:  Train 0.8525 | Validation 0.8674\n",
      "Epoch 180/400 || Loss:  Train 0.7873 | Validation 0.7868\n",
      "Epoch 200/400 || Loss:  Train 0.7414 | Validation 0.7511\n",
      "Epoch 220/400 || Loss:  Train 0.6914 | Validation 0.6951\n",
      "Epoch 240/400 || Loss:  Train 0.6393 | Validation 0.6363\n",
      "Epoch 260/400 || Loss:  Train 0.5691 | Validation 0.5629\n",
      "Epoch 280/400 || Loss:  Train 0.5047 | Validation 0.4697\n",
      "Epoch 300/400 || Loss:  Train 0.4631 | Validation 0.4316\n",
      "Epoch 320/400 || Loss:  Train 0.4348 | Validation 0.4011\n",
      "Epoch 340/400 || Loss:  Train 0.4203 | Validation 0.3813\n",
      "Epoch 360/400 || Loss:  Train 0.3933 | Validation 0.3582\n",
      "Epoch 380/400 || Loss:  Train 0.3802 | Validation 0.3421\n",
      "Epoch 400/400 || Loss:  Train 0.3656 | Validation 0.3568\n"
     ]
    }
   ],
   "source": [
    "train_fcn(400, net, criterion, optimizer, train_loader, val_loader,\n",
    "          train_dset, val_dset, model_file='icnnl1', scheduler=scheduler, positivate=True, l1alpha=1e-4)"
   ]
  },
  {
   "cell_type": "code",
   "execution_count": 170,
   "metadata": {},
   "outputs": [
    {
     "data": {
      "text/plain": [
       "<All keys matched successfully>"
      ]
     },
     "execution_count": 170,
     "metadata": {},
     "output_type": "execute_result"
    }
   ],
   "source": [
    "net.load_state_dict(torch.load('icnnl1'))"
   ]
  },
  {
   "cell_type": "code",
   "execution_count": 171,
   "metadata": {},
   "outputs": [],
   "source": [
    "icnnl1_val_losses = np.load('val_loss_icnnl1.npy')\n",
    "icnnl1_val_accs = np.load('val_acc_icnnl1.npy')"
   ]
  },
  {
   "cell_type": "code",
   "execution_count": 172,
   "metadata": {},
   "outputs": [
    {
     "data": {
      "text/plain": [
       "0.8933333333333333"
      ]
     },
     "execution_count": 172,
     "metadata": {},
     "output_type": "execute_result"
    }
   ],
   "source": [
    "get_accuracy(net, val_dset)"
   ]
  },
  {
   "cell_type": "code",
   "execution_count": 173,
   "metadata": {},
   "outputs": [
    {
     "data": {
      "text/plain": [
       "{'PosDense1': 0.61328125,\n",
       " 'PosDense2': 0.6575,\n",
       " 'PosDense3': 0.355,\n",
       " 'Dense': 0.0}"
      ]
     },
     "execution_count": 173,
     "metadata": {},
     "output_type": "execute_result"
    }
   ],
   "source": [
    "net.get_sparsities()"
   ]
  },
  {
   "cell_type": "code",
   "execution_count": 174,
   "metadata": {},
   "outputs": [],
   "source": [
    "sparsities = net.get_sparsities()"
   ]
  },
  {
   "cell_type": "code",
   "execution_count": 175,
   "metadata": {},
   "outputs": [],
   "source": [
    "s0 = sparsities['PosDense1'] * get_size(net.fcpos0.weight.data)\n",
    "s1 = sparsities['PosDense2'] * get_size(net.fcpos1.weight.data)\n",
    "s2 = sparsities['PosDense3'] * get_size(net.fcpos2.weight.data)\n",
    "s3 = sparsities['Dense'] * get_size(net.fc.weight.data)"
   ]
  },
  {
   "cell_type": "code",
   "execution_count": 176,
   "metadata": {},
   "outputs": [
    {
     "data": {
      "text/plain": [
       "0.5920765027322404"
      ]
     },
     "execution_count": 176,
     "metadata": {},
     "output_type": "execute_result"
    }
   ],
   "source": [
    "(s0 + s1 + s2 + s3) /(get_size(net.fcpos0.weight.data) + get_size(net.fcpos1.weight.data) + get_size(net.fcpos2.weight.data) + get_size(net.fc.weight.data))"
   ]
  },
  {
   "cell_type": "markdown",
   "metadata": {},
   "source": [
    "# L1 + FCN"
   ]
  },
  {
   "cell_type": "code",
   "execution_count": 177,
   "metadata": {},
   "outputs": [],
   "source": [
    "device = 'cpu'\n",
    "\n",
    "net = FCN()  \n",
    "criterion = F.cross_entropy\n",
    "optimizer = torch.optim.Adam(net.parameters())\n",
    "scheduler = None\n",
    "\n",
    "train_loader = torch_data.DataLoader(train_dset, batch_size=30, shuffle=True) \n",
    "val_loader = torch_data.DataLoader(val_dset, batch_size=100, shuffle=False) "
   ]
  },
  {
   "cell_type": "code",
   "execution_count": 178,
   "metadata": {},
   "outputs": [
    {
     "name": "stdout",
     "output_type": "stream",
     "text": [
      "Epoch 20/400 || Loss:  Train 0.7765 | Validation 0.7245\n",
      "Epoch 40/400 || Loss:  Train 0.5281 | Validation 0.4512\n",
      "Epoch 60/400 || Loss:  Train 0.4215 | Validation 0.3526\n",
      "Epoch 80/400 || Loss:  Train 0.3594 | Validation 0.2905\n",
      "Epoch 100/400 || Loss:  Train 0.3175 | Validation 0.2591\n",
      "Epoch 120/400 || Loss:  Train 0.2867 | Validation 0.2388\n",
      "Epoch 140/400 || Loss:  Train 0.2637 | Validation 0.2290\n",
      "Epoch 160/400 || Loss:  Train 0.2487 | Validation 0.2118\n",
      "Epoch 180/400 || Loss:  Train 0.2290 | Validation 0.2048\n",
      "Epoch 200/400 || Loss:  Train 0.2168 | Validation 0.1946\n",
      "Epoch 220/400 || Loss:  Train 0.2021 | Validation 0.1846\n",
      "Epoch 240/400 || Loss:  Train 0.1907 | Validation 0.1718\n",
      "Epoch 260/400 || Loss:  Train 0.1801 | Validation 0.1662\n",
      "Epoch 280/400 || Loss:  Train 0.1701 | Validation 0.1532\n",
      "Epoch 300/400 || Loss:  Train 0.1612 | Validation 0.1555\n",
      "Epoch 320/400 || Loss:  Train 0.1555 | Validation 0.1570\n",
      "Epoch 340/400 || Loss:  Train 0.1462 | Validation 0.1348\n",
      "Epoch 360/400 || Loss:  Train 0.1401 | Validation 0.1440\n",
      "Epoch 380/400 || Loss:  Train 0.1340 | Validation 0.1380\n",
      "Epoch 400/400 || Loss:  Train 0.1300 | Validation 0.1325\n"
     ]
    }
   ],
   "source": [
    "train_fcn(400, net, criterion, optimizer, train_loader, val_loader,\n",
    "          train_dset, val_dset, model_file='fcnl1', scheduler=scheduler, positivate=False, l1alpha=1e-4)"
   ]
  },
  {
   "cell_type": "code",
   "execution_count": 179,
   "metadata": {},
   "outputs": [
    {
     "data": {
      "text/plain": [
       "<All keys matched successfully>"
      ]
     },
     "execution_count": 179,
     "metadata": {},
     "output_type": "execute_result"
    }
   ],
   "source": [
    "net.load_state_dict(torch.load('fcnl1'))"
   ]
  },
  {
   "cell_type": "code",
   "execution_count": 180,
   "metadata": {},
   "outputs": [],
   "source": [
    "fcnl1_val_losses = np.load('val_loss_fcnl1.npy')\n",
    "fcnl1_val_accs = np.load('val_acc_fcnl1.npy')"
   ]
  },
  {
   "cell_type": "code",
   "execution_count": 181,
   "metadata": {},
   "outputs": [
    {
     "data": {
      "text/plain": [
       "0.9577777777777777"
      ]
     },
     "execution_count": 181,
     "metadata": {},
     "output_type": "execute_result"
    }
   ],
   "source": [
    "get_accuracy(net, val_dset)"
   ]
  },
  {
   "cell_type": "code",
   "execution_count": 183,
   "metadata": {},
   "outputs": [
    {
     "data": {
      "text/plain": [
       "{'Dense1': 0.0, 'Dense2': 0.0, 'Dense3': 0.0}"
      ]
     },
     "execution_count": 183,
     "metadata": {},
     "output_type": "execute_result"
    }
   ],
   "source": [
    "net.get_sparsities()"
   ]
  },
  {
   "cell_type": "markdown",
   "metadata": {},
   "source": [
    "# ICNN + SKIPS"
   ]
  },
  {
   "cell_type": "code",
   "execution_count": 193,
   "metadata": {},
   "outputs": [],
   "source": [
    "icnnskips_val_losses = np.load('val_loss_icnskips.npy')\n",
    "icnnskips_val_accs = np.load('val_acc_icnskips.npy')\n",
    "icnnskipsl1_val_losse = np.load('val_loss_icnnskipsl1.npy')\n",
    "icnnskipsl1_val_accs = np.load('val_acc_icnnskipsl1.npy')"
   ]
  },
  {
   "cell_type": "code",
   "execution_count": 199,
   "metadata": {
    "scrolled": false
   },
   "outputs": [
    {
     "data": {
      "image/png": "[encoded data removed]",
      "text/plain": [
       "<Figure size 1008x504 with 2 Axes>"
      ]
     },
     "metadata": {
      "needs_background": "light"
     },
     "output_type": "display_data"
    }
   ],
   "source": [
    "fig, axs = plt.subplots(nrows=1, ncols=2, figsize=(14, 7))\n",
    "axs[0].grid()\n",
    "axs[0].plot(fcn_val_losses, label=\"FCNN\")\n",
    "axs[0].plot(icnn_val_losses, label=\"ICNN\")\n",
    "axs[0].plot(icnnskips_val_losses, label=\"ICNN with skips\")\n",
    "axs[0].plot(fcnl1_val_losses, label=\"FCNN_L1\")\n",
    "axs[0].plot(icnnl1_val_losses, label=\"ICNN_L1\")\n",
    "axs[0].plot(icnnskipsl1_val_losse, label=\"ICNN with skips L1\")\n",
    "axs[0].set_xlabel(\"Epoch\", fontsize=14)\n",
    "axs[0].set_ylabel(\"Loss\", fontsize=14)\n",
    "axs[0].legend(fontsize=14)\n",
    "\n",
    "axs[1].grid()\n",
    "axs[1].plot(fcn_val_accs, label=\"FCNN\")\n",
    "axs[1].plot(icnn_val_accs, label=\"ICNN\")\n",
    "axs[1].plot(icnnskips_val_accs, label=\"ICNN with skips\")\n",
    "axs[1].plot(fcnl1_val_accs, label=\"FCNN_L1\")\n",
    "axs[1].plot(icnnl1_val_accs, label=\"ICNN_L1\")\n",
    "axs[1].plot(icnnskipsl1_val_accs, label=\"ICNN with skips L1\")\n",
    "axs[1].set_xlabel(\"Epoch\", fontsize=14)\n",
    "axs[1].set_ylabel(\"Accuracy\", fontsize=14)\n",
    "axs[1].legend(fontsize=14)\n",
    "plt.show()"
   ]
  },
  {
   "cell_type": "code",
   "execution_count": null,
   "metadata": {},
   "outputs": [],
   "source": []
  }
 ],
 "metadata": {
  "kernelspec": {
   "display_name": "Python 3",
   "language": "python",
   "name": "python3"
  },
  "language_info": {
   "codemirror_mode": {
    "name": "ipython",
    "version": 3
   },
   "file_extension": ".py",
   "mimetype": "text/x-python",
   "name": "python",
   "nbconvert_exporter": "python",
   "pygments_lexer": "ipython3",
   "version": "3.7.4"
  },
  "toc": {
   "base_numbering": 1,
   "nav_menu": {},
   "number_sections": true,
   "sideBar": true,
   "skip_h1_title": false,
   "title_cell": "Table of Contents",
   "title_sidebar": "Contents",
   "toc_cell": false,
   "toc_position": {},
   "toc_section_display": true,
   "toc_window_display": false
  },
  "varInspector": {
   "cols": {
    "lenName": 16,
    "lenType": 16,
    "lenVar": 40
   },
   "kernels_config": {
    "python": {
     "delete_cmd_postfix": "",
     "delete_cmd_prefix": "del ",
     "library": "var_list.py",
     "varRefreshCmd": "print(var_dic_list())"
    },
    "r": {
     "delete_cmd_postfix": ") ",
     "delete_cmd_prefix": "rm(",
     "library": "var_list.r",
     "varRefreshCmd": "cat(var_dic_list()) "
    }
   },
   "types_to_exclude": [
    "module",
    "function",
    "builtin_function_or_method",
    "instance",
    "_Feature"
   ],
   "window_display": false
  }
 },
 "nbformat": 4,
 "nbformat_minor": 2
}
