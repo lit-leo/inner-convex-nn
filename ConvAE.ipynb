{
 "cells": [
  {
   "cell_type": "code",
   "execution_count": 254,
   "metadata": {},
   "outputs": [],
   "source": [
    "#imports\n",
    "%matplotlib inline\n",
    "import torch.nn.functional as F\n",
    "import matplotlib.pyplot as plt\n",
    "import torch\n",
    "from sklearn.datasets import load_digits\n",
    "import numpy as np\n",
    "import pandas as pd\n",
    "from sklearn.model_selection import train_test_split\n",
    "import torch.nn as nn\n",
    "import torch.utils.data as torch_data\n",
    "import sklearn\n",
    "from sklearn.metrics import accuracy_score"
   ]
  },
  {
   "cell_type": "code",
   "execution_count": 255,
   "metadata": {},
   "outputs": [],
   "source": [
    "from poslayers.poslayers import Dense, PosDense, PosConv2d"
   ]
  },
  {
   "cell_type": "code",
   "execution_count": 257,
   "metadata": {},
   "outputs": [],
   "source": [
    "from torchvision.datasets import CelebA"
   ]
  },
  {
   "cell_type": "markdown",
   "metadata": {},
   "source": [
    "# Simple ConvAE"
   ]
  },
  {
   "cell_type": "code",
   "execution_count": 265,
   "metadata": {},
   "outputs": [],
   "source": [
    "import random\n",
    "\n",
    "import torch\n",
    "from   torch.autograd import Variable\n",
    "import torch.nn as nn\n",
    "import torch.nn.functional as F\n",
    "import torch.optim as optim\n",
    "import torchvision\n",
    "from   torchvision import datasets, transforms\n",
    "from PIL import Image\n",
    "\n",
    "import numpy as np"
   ]
  },
  {
   "cell_type": "code",
   "execution_count": 316,
   "metadata": {},
   "outputs": [],
   "source": [
    "class CelebA():\n",
    "    def __init__(self, root_path, shape=(128, 128), dataset_size=30000, train_part=0.8):\n",
    "        self.root_path = root_path\n",
    "        self.shape = shape\n",
    "        self.dataset_size = dataset_size\n",
    "        self.train_size = round(train_part * dataset_size)\n",
    "        self.totensor = transforms.ToTensor()\n",
    "        self.train_idx_map = np.arange(self.train_size) + 1\n",
    "        self.test_idx_map = np.arange(self.train_size, self.dataset_size) + 1\n",
    "        self.shuffle()\n",
    "    \n",
    "    def __get_item__(self, index):\n",
    "        name = \"{:06d}.jpg\".format(index + 1)\n",
    "        img = Image(f'{self.root_path}/{name}').resize(self.shape)\n",
    "        return self.totensor(img)\n",
    "    \n",
    "    def shuffle(self):\n",
    "        np.random.shuffle(self.train_idx_map)\n",
    "        np.random.shuffle(self.test_idx_map)\n",
    "    \n",
    "    def load_train_batch(self, batch_first_idx, batch_size):\n",
    "        indexes = batch_first_idx + np.arange(min(batch_size, self.train_size - batch_first_idx))\n",
    "        indexes = self.train_idx_map[indexes]\n",
    "        names = [\"{:06d}.jpg\".format(ind) for ind in indexes]\n",
    "        \n",
    "        batch = []\n",
    "        for name in names:\n",
    "            img = Image.open(f'{self.root_path}/{name}').resize(self.shape)\n",
    "            batch.append(self.totensor(img))\n",
    "        return torch.stack(batch, dim=0)\n",
    "    \n",
    "    def load_test_batch(self, batch_first_idx, batch_size):\n",
    "        indexes = batch_first_idx + np.arange(min(batch_size - 1, self.dataset_size - self.train_size - 1))\n",
    "        indexes = self.test_idx_map[indexes]\n",
    "        names = [\"{:06d}.jpg\".format(ind) for ind in indexes]\n",
    "\n",
    "        batch = []\n",
    "        for name in names:\n",
    "            img = Image.open(f'{self.root_path}/{name}').resize(self.shape)\n",
    "            batch.append(self.totensor(img))\n",
    "        return torch.stack(batch, dim=0)"
   ]
  },
  {
   "cell_type": "code",
   "execution_count": 317,
   "metadata": {},
   "outputs": [],
   "source": [
    "class AutoEncoder(nn.Module):\n",
    "    \n",
    "    def __init__(self, code_size):\n",
    "        super().__init__()\n",
    "        self.code_size = code_size\n",
    "        \n",
    "        # Encoder specification\n",
    "        self.enc_cnn_1 = nn.Conv2d(INPUT_CHANNELS, 5, kernel_size=5)\n",
    "        self.enc_cnn_2 = nn.Conv2d(5, 10, kernel_size=5)\n",
    "        self.enc_linear_1 = nn.Linear(10 * 13 * 13, 800)\n",
    "        self.enc_linear_2 = nn.Linear(800, self.code_size)\n",
    "        \n",
    "        # Decoder specification\n",
    "        self.dec_linear_1 = nn.Linear(self.code_size, 4000)\n",
    "        self.dec_linear_2 = nn.Linear(4000, IMAGE_SIZE * INPUT_CHANNELS)\n",
    "        \n",
    "    def forward(self, images):\n",
    "        code = self.encode(images)\n",
    "        out = self.decode(code)\n",
    "        return out, code\n",
    "    \n",
    "    def encode(self, images):\n",
    "        code = self.enc_cnn_1(images)\n",
    "        code = F.selu(F.max_pool2d(code, 2))\n",
    "        \n",
    "        code = self.enc_cnn_2(code)\n",
    "        code = F.selu(F.max_pool2d(code, 2))\n",
    "        \n",
    "        code = code.view([images.size(0), -1])\n",
    "        code = F.selu(self.enc_linear_1(code))\n",
    "        code = self.enc_linear_2(code)\n",
    "        return code\n",
    "    \n",
    "    def decode(self, code):\n",
    "        out = F.selu(self.dec_linear_1(code))\n",
    "        out = F.sigmoid(self.dec_linear_2(out))\n",
    "        out = out.view([code.size(0), INPUT_CHANNELS, IMAGE_WIDTH, IMAGE_HEIGHT])\n",
    "        return out"
   ]
  },
  {
   "cell_type": "code",
   "execution_count": 318,
   "metadata": {},
   "outputs": [],
   "source": [
    "from tqdm.notebook import tqdm"
   ]
  },
  {
   "cell_type": "code",
   "execution_count": 319,
   "metadata": {},
   "outputs": [],
   "source": [
    "IMAGE_SIZE = 64 * 64\n",
    "IMAGE_WIDTH = IMAGE_HEIGHT = 64\n",
    "INPUT_CHANNELS = 3\n",
    "\n",
    "# Hyperparameters\n",
    "code_size = 500\n",
    "num_epochs = 5\n",
    "batch_size = 64\n",
    "lr = 0.002\n",
    "loss_fn = nn.BCELoss()\n",
    "\n",
    "\n",
    "net = AutoEncoder(code_size=code_size)\n",
    "celeba = CelebA('./celeba/img_align_celeba', shape=(IMAGE_WIDTH, IMAGE_HEIGHT))\n",
    "optimizer = optim.Adam(net.parameters())"
   ]
  },
  {
   "cell_type": "code",
   "execution_count": 320,
   "metadata": {},
   "outputs": [],
   "source": [
    "def train_ae(epochs, net, criterion, optimizer, ds, batch_size=128, \n",
    "             scheduler=None, verbose=True, save_dir=None, device=0):\n",
    "    \n",
    "    for epoch in range(1, epochs + 1):\n",
    "\n",
    "        net.train()\n",
    "        train_loss = []\n",
    "        for batch_idx in tqdm(range(0, ds.train_size, batch_size)):\n",
    "            batch = ds.load_train_batch(batch_idx, batch_size)\n",
    "            out, code = net(Variable(batch))\n",
    "            optimizer.zero_grad()\n",
    "            loss = criterion(out, batch)\n",
    "            loss.backward()\n",
    "            optimizer.step()\n",
    "            train_loss.append(loss)\n",
    "        \n",
    "        \n",
    "        net.eval()\n",
    "        val_loss = []\n",
    "        for batch_idx in tqdm(range(0, ds.dataset_size - ds.train_size, batch_size)):\n",
    "            batch = ds.load_test_batch(batch_idx, batch_size)\n",
    "            out, code = net(Variable(batch))\n",
    "            optimizer.zero_grad()\n",
    "            loss = criterion(out, batch)\n",
    "            loss.backward()\n",
    "            optimizer.step()\n",
    "            val_loss.append(loss)\n",
    "         \n",
    "        if scheduler is not None:\n",
    "            scheduler.step()\n",
    "        freq = 3\n",
    "        if verbose and epoch%freq==0:\n",
    "            print('Epoch {}/{} || Loss:  Train {:.4f} | Validation {:.4f}'.format(epoch, epochs, np.mean(train_loss), np.mean(val_loss)))"
   ]
  },
  {
   "cell_type": "code",
   "execution_count": 321,
   "metadata": {},
   "outputs": [
    {
     "data": {
      "application/vnd.jupyter.widget-view+json": {
       "model_id": "05ab13e0e81f4a35b975c38d3015f3db",
       "version_major": 2,
       "version_minor": 0
      },
      "text/plain": [
       "HBox(children=(IntProgress(value=0, max=375), HTML(value='')))"
      ]
     },
     "metadata": {},
     "output_type": "display_data"
    },
    {
     "ename": "KeyboardInterrupt",
     "evalue": "",
     "output_type": "error",
     "traceback": [
      "\u001b[0;31m---------------------------------------------------------------------------\u001b[0m",
      "\u001b[0;31mKeyboardInterrupt\u001b[0m                         Traceback (most recent call last)",
      "\u001b[0;32m<ipython-input-321-465a06b874ad>\u001b[0m in \u001b[0;36m<module>\u001b[0;34m\u001b[0m\n\u001b[1;32m      1\u001b[0m train_ae(50, net, loss_fn, optimizer, celeba, batch_size=64, \n\u001b[0;32m----> 2\u001b[0;31m          scheduler=None, verbose=True, save_dir=None, device=1)\n\u001b[0m",
      "\u001b[0;32m<ipython-input-320-4b7ec4a95fed>\u001b[0m in \u001b[0;36mtrain_ae\u001b[0;34m(epochs, net, criterion, optimizer, ds, batch_size, scheduler, verbose, save_dir, device)\u001b[0m\n\u001b[1;32m     11\u001b[0m             \u001b[0moptimizer\u001b[0m\u001b[0;34m.\u001b[0m\u001b[0mzero_grad\u001b[0m\u001b[0;34m(\u001b[0m\u001b[0;34m)\u001b[0m\u001b[0;34m\u001b[0m\u001b[0;34m\u001b[0m\u001b[0m\n\u001b[1;32m     12\u001b[0m             \u001b[0mloss\u001b[0m \u001b[0;34m=\u001b[0m \u001b[0mcriterion\u001b[0m\u001b[0;34m(\u001b[0m\u001b[0mout\u001b[0m\u001b[0;34m,\u001b[0m \u001b[0mbatch\u001b[0m\u001b[0;34m)\u001b[0m\u001b[0;34m\u001b[0m\u001b[0;34m\u001b[0m\u001b[0m\n\u001b[0;32m---> 13\u001b[0;31m             \u001b[0mloss\u001b[0m\u001b[0;34m.\u001b[0m\u001b[0mbackward\u001b[0m\u001b[0;34m(\u001b[0m\u001b[0;34m)\u001b[0m\u001b[0;34m\u001b[0m\u001b[0;34m\u001b[0m\u001b[0m\n\u001b[0m\u001b[1;32m     14\u001b[0m             \u001b[0moptimizer\u001b[0m\u001b[0;34m.\u001b[0m\u001b[0mstep\u001b[0m\u001b[0;34m(\u001b[0m\u001b[0;34m)\u001b[0m\u001b[0;34m\u001b[0m\u001b[0;34m\u001b[0m\u001b[0m\n\u001b[1;32m     15\u001b[0m             \u001b[0mtrain_loss\u001b[0m\u001b[0;34m.\u001b[0m\u001b[0mappend\u001b[0m\u001b[0;34m(\u001b[0m\u001b[0mloss\u001b[0m\u001b[0;34m)\u001b[0m\u001b[0;34m\u001b[0m\u001b[0;34m\u001b[0m\u001b[0m\n",
      "\u001b[0;32m~/opt/anaconda3/lib/python3.7/site-packages/torch/tensor.py\u001b[0m in \u001b[0;36mbackward\u001b[0;34m(self, gradient, retain_graph, create_graph)\u001b[0m\n\u001b[1;32m    164\u001b[0m                 \u001b[0mproducts\u001b[0m\u001b[0;34m.\u001b[0m \u001b[0mDefaults\u001b[0m \u001b[0mto\u001b[0m\u001b[0;31m \u001b[0m\u001b[0;31m`\u001b[0m\u001b[0;31m`\u001b[0m\u001b[0;32mFalse\u001b[0m\u001b[0;31m`\u001b[0m\u001b[0;31m`\u001b[0m\u001b[0;34m.\u001b[0m\u001b[0;34m\u001b[0m\u001b[0;34m\u001b[0m\u001b[0m\n\u001b[1;32m    165\u001b[0m         \"\"\"\n\u001b[0;32m--> 166\u001b[0;31m         \u001b[0mtorch\u001b[0m\u001b[0;34m.\u001b[0m\u001b[0mautograd\u001b[0m\u001b[0;34m.\u001b[0m\u001b[0mbackward\u001b[0m\u001b[0;34m(\u001b[0m\u001b[0mself\u001b[0m\u001b[0;34m,\u001b[0m \u001b[0mgradient\u001b[0m\u001b[0;34m,\u001b[0m \u001b[0mretain_graph\u001b[0m\u001b[0;34m,\u001b[0m \u001b[0mcreate_graph\u001b[0m\u001b[0;34m)\u001b[0m\u001b[0;34m\u001b[0m\u001b[0;34m\u001b[0m\u001b[0m\n\u001b[0m\u001b[1;32m    167\u001b[0m \u001b[0;34m\u001b[0m\u001b[0m\n\u001b[1;32m    168\u001b[0m     \u001b[0;32mdef\u001b[0m \u001b[0mregister_hook\u001b[0m\u001b[0;34m(\u001b[0m\u001b[0mself\u001b[0m\u001b[0;34m,\u001b[0m \u001b[0mhook\u001b[0m\u001b[0;34m)\u001b[0m\u001b[0;34m:\u001b[0m\u001b[0;34m\u001b[0m\u001b[0;34m\u001b[0m\u001b[0m\n",
      "\u001b[0;32m~/opt/anaconda3/lib/python3.7/site-packages/torch/autograd/__init__.py\u001b[0m in \u001b[0;36mbackward\u001b[0;34m(tensors, grad_tensors, retain_graph, create_graph, grad_variables)\u001b[0m\n\u001b[1;32m     97\u001b[0m     Variable._execution_engine.run_backward(\n\u001b[1;32m     98\u001b[0m         \u001b[0mtensors\u001b[0m\u001b[0;34m,\u001b[0m \u001b[0mgrad_tensors\u001b[0m\u001b[0;34m,\u001b[0m \u001b[0mretain_graph\u001b[0m\u001b[0;34m,\u001b[0m \u001b[0mcreate_graph\u001b[0m\u001b[0;34m,\u001b[0m\u001b[0;34m\u001b[0m\u001b[0;34m\u001b[0m\u001b[0m\n\u001b[0;32m---> 99\u001b[0;31m         allow_unreachable=True)  # allow_unreachable flag\n\u001b[0m\u001b[1;32m    100\u001b[0m \u001b[0;34m\u001b[0m\u001b[0m\n\u001b[1;32m    101\u001b[0m \u001b[0;34m\u001b[0m\u001b[0m\n",
      "\u001b[0;31mKeyboardInterrupt\u001b[0m: "
     ]
    }
   ],
   "source": [
    "train_ae(50, net, loss_fn, optimizer, celeba, batch_size=64, \n",
    "         scheduler=None, verbose=True, save_dir=None, device=1)"
   ]
  },
  {
   "cell_type": "code",
   "execution_count": null,
   "metadata": {},
   "outputs": [],
   "source": []
  }
 ],
 "metadata": {
  "kernelspec": {
   "display_name": "Python 3",
   "language": "python",
   "name": "python3"
  },
  "language_info": {
   "codemirror_mode": {
    "name": "ipython",
    "version": 3
   },
   "file_extension": ".py",
   "mimetype": "text/x-python",
   "name": "python",
   "nbconvert_exporter": "python",
   "pygments_lexer": "ipython3",
   "version": "3.7.4"
  },
  "toc": {
   "base_numbering": 1,
   "nav_menu": {},
   "number_sections": true,
   "sideBar": true,
   "skip_h1_title": false,
   "title_cell": "Table of Contents",
   "title_sidebar": "Contents",
   "toc_cell": false,
   "toc_position": {},
   "toc_section_display": true,
   "toc_window_display": false
  },
  "varInspector": {
   "cols": {
    "lenName": 16,
    "lenType": 16,
    "lenVar": 40
   },
   "kernels_config": {
    "python": {
     "delete_cmd_postfix": "",
     "delete_cmd_prefix": "del ",
     "library": "var_list.py",
     "varRefreshCmd": "print(var_dic_list())"
    },
    "r": {
     "delete_cmd_postfix": ") ",
     "delete_cmd_prefix": "rm(",
     "library": "var_list.r",
     "varRefreshCmd": "cat(var_dic_list()) "
    }
   },
   "types_to_exclude": [
    "module",
    "function",
    "builtin_function_or_method",
    "instance",
    "_Feature"
   ],
   "window_display": false
  }
 },
 "nbformat": 4,
 "nbformat_minor": 2
}
